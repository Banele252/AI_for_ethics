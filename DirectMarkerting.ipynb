{
 "cells": [
  {
   "cell_type": "markdown",
   "metadata": {},
   "source": [
    "## Direct Marketing without using Privacy-preserving techniques"
   ]
  },
  {
   "cell_type": "markdown",
   "metadata": {},
   "source": [
    "### Import all necessary libraries "
   ]
  },
  {
   "cell_type": "code",
   "execution_count": 418,
   "metadata": {},
   "outputs": [],
   "source": [
    "import numpy as np\n",
    "import matplotlib.pyplot as plt\n",
    "import pandas as pd"
   ]
  },
  {
   "cell_type": "markdown",
   "metadata": {},
   "source": [
    "### Import the dataset"
   ]
  },
  {
   "cell_type": "code",
   "execution_count": 419,
   "metadata": {},
   "outputs": [
    {
     "data": {
      "text/html": [
       "<div>\n",
       "<style scoped>\n",
       "    .dataframe tbody tr th:only-of-type {\n",
       "        vertical-align: middle;\n",
       "    }\n",
       "\n",
       "    .dataframe tbody tr th {\n",
       "        vertical-align: top;\n",
       "    }\n",
       "\n",
       "    .dataframe thead th {\n",
       "        text-align: right;\n",
       "    }\n",
       "</style>\n",
       "<table border=\"1\" class=\"dataframe\">\n",
       "  <thead>\n",
       "    <tr style=\"text-align: right;\">\n",
       "      <th></th>\n",
       "      <th>Age</th>\n",
       "      <th>Gender</th>\n",
       "      <th>OwnHome</th>\n",
       "      <th>Married</th>\n",
       "      <th>Location(km)</th>\n",
       "      <th>Salary</th>\n",
       "      <th>Children</th>\n",
       "      <th>History</th>\n",
       "      <th>Catalogs</th>\n",
       "      <th>AmountSpent</th>\n",
       "      <th>Customer Segment</th>\n",
       "    </tr>\n",
       "  </thead>\n",
       "  <tbody>\n",
       "    <tr>\n",
       "      <th>0</th>\n",
       "      <td>58</td>\n",
       "      <td>Female</td>\n",
       "      <td>Own</td>\n",
       "      <td>Single</td>\n",
       "      <td>12.37</td>\n",
       "      <td>47500</td>\n",
       "      <td>0</td>\n",
       "      <td>High</td>\n",
       "      <td>6</td>\n",
       "      <td>755</td>\n",
       "      <td>Medium value</td>\n",
       "    </tr>\n",
       "    <tr>\n",
       "      <th>1</th>\n",
       "      <td>39</td>\n",
       "      <td>Male</td>\n",
       "      <td>Rent</td>\n",
       "      <td>Single</td>\n",
       "      <td>5.37</td>\n",
       "      <td>63600</td>\n",
       "      <td>0</td>\n",
       "      <td>High</td>\n",
       "      <td>6</td>\n",
       "      <td>1318</td>\n",
       "      <td>Medium value</td>\n",
       "    </tr>\n",
       "    <tr>\n",
       "      <th>2</th>\n",
       "      <td>26</td>\n",
       "      <td>Female</td>\n",
       "      <td>Rent</td>\n",
       "      <td>Single</td>\n",
       "      <td>3.02</td>\n",
       "      <td>13500</td>\n",
       "      <td>0</td>\n",
       "      <td>Low</td>\n",
       "      <td>18</td>\n",
       "      <td>296</td>\n",
       "      <td>Low value</td>\n",
       "    </tr>\n",
       "    <tr>\n",
       "      <th>3</th>\n",
       "      <td>54</td>\n",
       "      <td>Male</td>\n",
       "      <td>Own</td>\n",
       "      <td>Married</td>\n",
       "      <td>6.53</td>\n",
       "      <td>85600</td>\n",
       "      <td>1</td>\n",
       "      <td>High</td>\n",
       "      <td>18</td>\n",
       "      <td>2436</td>\n",
       "      <td>High value</td>\n",
       "    </tr>\n",
       "    <tr>\n",
       "      <th>4</th>\n",
       "      <td>37</td>\n",
       "      <td>Female</td>\n",
       "      <td>Own</td>\n",
       "      <td>Single</td>\n",
       "      <td>3.04</td>\n",
       "      <td>68400</td>\n",
       "      <td>0</td>\n",
       "      <td>High</td>\n",
       "      <td>12</td>\n",
       "      <td>1304</td>\n",
       "      <td>Medium value</td>\n",
       "    </tr>\n",
       "  </tbody>\n",
       "</table>\n",
       "</div>"
      ],
      "text/plain": [
       "   Age  Gender OwnHome  Married  Location(km)  Salary  Children History  \\\n",
       "0   58  Female     Own   Single         12.37   47500         0    High   \n",
       "1   39    Male    Rent   Single          5.37   63600         0    High   \n",
       "2   26  Female    Rent   Single          3.02   13500         0     Low   \n",
       "3   54    Male     Own  Married          6.53   85600         1    High   \n",
       "4   37  Female     Own   Single          3.04   68400         0    High   \n",
       "\n",
       "   Catalogs  AmountSpent Customer Segment  \n",
       "0         6          755     Medium value  \n",
       "1         6         1318     Medium value  \n",
       "2        18          296        Low value  \n",
       "3        18         2436       High value  \n",
       "4        12         1304     Medium value  "
      ]
     },
     "execution_count": 419,
     "metadata": {},
     "output_type": "execute_result"
    }
   ],
   "source": [
    "dataset=pd.read_csv(\"DirectMarketing.csv\")\n",
    "dataset.head()"
   ]
  },
  {
   "cell_type": "markdown",
   "metadata": {},
   "source": [
    "Removing rows that have NaN values "
   ]
  },
  {
   "cell_type": "code",
   "execution_count": 420,
   "metadata": {},
   "outputs": [
    {
     "data": {
      "text/html": [
       "<div>\n",
       "<style scoped>\n",
       "    .dataframe tbody tr th:only-of-type {\n",
       "        vertical-align: middle;\n",
       "    }\n",
       "\n",
       "    .dataframe tbody tr th {\n",
       "        vertical-align: top;\n",
       "    }\n",
       "\n",
       "    .dataframe thead th {\n",
       "        text-align: right;\n",
       "    }\n",
       "</style>\n",
       "<table border=\"1\" class=\"dataframe\">\n",
       "  <thead>\n",
       "    <tr style=\"text-align: right;\">\n",
       "      <th></th>\n",
       "      <th>Age</th>\n",
       "      <th>Gender</th>\n",
       "      <th>OwnHome</th>\n",
       "      <th>Married</th>\n",
       "      <th>Location(km)</th>\n",
       "      <th>Salary</th>\n",
       "      <th>Children</th>\n",
       "      <th>History</th>\n",
       "      <th>Catalogs</th>\n",
       "      <th>AmountSpent</th>\n",
       "      <th>Customer Segment</th>\n",
       "    </tr>\n",
       "  </thead>\n",
       "  <tbody>\n",
       "    <tr>\n",
       "      <th>0</th>\n",
       "      <td>58</td>\n",
       "      <td>Female</td>\n",
       "      <td>Own</td>\n",
       "      <td>Single</td>\n",
       "      <td>12.37</td>\n",
       "      <td>47500</td>\n",
       "      <td>0</td>\n",
       "      <td>High</td>\n",
       "      <td>6</td>\n",
       "      <td>755</td>\n",
       "      <td>Medium value</td>\n",
       "    </tr>\n",
       "    <tr>\n",
       "      <th>1</th>\n",
       "      <td>39</td>\n",
       "      <td>Male</td>\n",
       "      <td>Rent</td>\n",
       "      <td>Single</td>\n",
       "      <td>5.37</td>\n",
       "      <td>63600</td>\n",
       "      <td>0</td>\n",
       "      <td>High</td>\n",
       "      <td>6</td>\n",
       "      <td>1318</td>\n",
       "      <td>Medium value</td>\n",
       "    </tr>\n",
       "    <tr>\n",
       "      <th>2</th>\n",
       "      <td>26</td>\n",
       "      <td>Female</td>\n",
       "      <td>Rent</td>\n",
       "      <td>Single</td>\n",
       "      <td>3.02</td>\n",
       "      <td>13500</td>\n",
       "      <td>0</td>\n",
       "      <td>Low</td>\n",
       "      <td>18</td>\n",
       "      <td>296</td>\n",
       "      <td>Low value</td>\n",
       "    </tr>\n",
       "    <tr>\n",
       "      <th>3</th>\n",
       "      <td>54</td>\n",
       "      <td>Male</td>\n",
       "      <td>Own</td>\n",
       "      <td>Married</td>\n",
       "      <td>6.53</td>\n",
       "      <td>85600</td>\n",
       "      <td>1</td>\n",
       "      <td>High</td>\n",
       "      <td>18</td>\n",
       "      <td>2436</td>\n",
       "      <td>High value</td>\n",
       "    </tr>\n",
       "    <tr>\n",
       "      <th>4</th>\n",
       "      <td>37</td>\n",
       "      <td>Female</td>\n",
       "      <td>Own</td>\n",
       "      <td>Single</td>\n",
       "      <td>3.04</td>\n",
       "      <td>68400</td>\n",
       "      <td>0</td>\n",
       "      <td>High</td>\n",
       "      <td>12</td>\n",
       "      <td>1304</td>\n",
       "      <td>Medium value</td>\n",
       "    </tr>\n",
       "    <tr>\n",
       "      <th>...</th>\n",
       "      <td>...</td>\n",
       "      <td>...</td>\n",
       "      <td>...</td>\n",
       "      <td>...</td>\n",
       "      <td>...</td>\n",
       "      <td>...</td>\n",
       "      <td>...</td>\n",
       "      <td>...</td>\n",
       "      <td>...</td>\n",
       "      <td>...</td>\n",
       "      <td>...</td>\n",
       "    </tr>\n",
       "    <tr>\n",
       "      <th>991</th>\n",
       "      <td>69</td>\n",
       "      <td>Female</td>\n",
       "      <td>Rent</td>\n",
       "      <td>Single</td>\n",
       "      <td>15.20</td>\n",
       "      <td>11700</td>\n",
       "      <td>0</td>\n",
       "      <td>Low</td>\n",
       "      <td>18</td>\n",
       "      <td>540</td>\n",
       "      <td>Medium value</td>\n",
       "    </tr>\n",
       "    <tr>\n",
       "      <th>993</th>\n",
       "      <td>54</td>\n",
       "      <td>Female</td>\n",
       "      <td>Own</td>\n",
       "      <td>Married</td>\n",
       "      <td>15.13</td>\n",
       "      <td>99200</td>\n",
       "      <td>0</td>\n",
       "      <td>High</td>\n",
       "      <td>24</td>\n",
       "      <td>5503</td>\n",
       "      <td>High value</td>\n",
       "    </tr>\n",
       "    <tr>\n",
       "      <th>997</th>\n",
       "      <td>60</td>\n",
       "      <td>Male</td>\n",
       "      <td>Own</td>\n",
       "      <td>Single</td>\n",
       "      <td>7.35</td>\n",
       "      <td>44800</td>\n",
       "      <td>0</td>\n",
       "      <td>Medium</td>\n",
       "      <td>24</td>\n",
       "      <td>1417</td>\n",
       "      <td>Medium value</td>\n",
       "    </tr>\n",
       "    <tr>\n",
       "      <th>998</th>\n",
       "      <td>54</td>\n",
       "      <td>Male</td>\n",
       "      <td>Own</td>\n",
       "      <td>Married</td>\n",
       "      <td>3.67</td>\n",
       "      <td>79000</td>\n",
       "      <td>2</td>\n",
       "      <td>Medium</td>\n",
       "      <td>18</td>\n",
       "      <td>671</td>\n",
       "      <td>Medium value</td>\n",
       "    </tr>\n",
       "    <tr>\n",
       "      <th>999</th>\n",
       "      <td>19</td>\n",
       "      <td>Male</td>\n",
       "      <td>Rent</td>\n",
       "      <td>Married</td>\n",
       "      <td>7.79</td>\n",
       "      <td>53600</td>\n",
       "      <td>1</td>\n",
       "      <td>Medium</td>\n",
       "      <td>24</td>\n",
       "      <td>973</td>\n",
       "      <td>Medium value</td>\n",
       "    </tr>\n",
       "  </tbody>\n",
       "</table>\n",
       "<p>697 rows × 11 columns</p>\n",
       "</div>"
      ],
      "text/plain": [
       "     Age  Gender OwnHome  Married  Location(km)  Salary  Children History  \\\n",
       "0     58  Female     Own   Single         12.37   47500         0    High   \n",
       "1     39    Male    Rent   Single          5.37   63600         0    High   \n",
       "2     26  Female    Rent   Single          3.02   13500         0     Low   \n",
       "3     54    Male     Own  Married          6.53   85600         1    High   \n",
       "4     37  Female     Own   Single          3.04   68400         0    High   \n",
       "..   ...     ...     ...      ...           ...     ...       ...     ...   \n",
       "991   69  Female    Rent   Single         15.20   11700         0     Low   \n",
       "993   54  Female     Own  Married         15.13   99200         0    High   \n",
       "997   60    Male     Own   Single          7.35   44800         0  Medium   \n",
       "998   54    Male     Own  Married          3.67   79000         2  Medium   \n",
       "999   19    Male    Rent  Married          7.79   53600         1  Medium   \n",
       "\n",
       "     Catalogs  AmountSpent Customer Segment  \n",
       "0           6          755     Medium value  \n",
       "1           6         1318     Medium value  \n",
       "2          18          296        Low value  \n",
       "3          18         2436       High value  \n",
       "4          12         1304     Medium value  \n",
       "..        ...          ...              ...  \n",
       "991        18          540     Medium value  \n",
       "993        24         5503       High value  \n",
       "997        24         1417     Medium value  \n",
       "998        18          671     Medium value  \n",
       "999        24          973     Medium value  \n",
       "\n",
       "[697 rows x 11 columns]"
      ]
     },
     "execution_count": 420,
     "metadata": {},
     "output_type": "execute_result"
    }
   ],
   "source": [
    "dataset.dropna(axis=0)"
   ]
  },
  {
   "cell_type": "code",
   "execution_count": 421,
   "metadata": {},
   "outputs": [],
   "source": [
    "dataset.columns\n",
    "datasetColumns=dataset.columns"
   ]
  },
  {
   "cell_type": "markdown",
   "metadata": {},
   "source": [
    "### Splitting the data into a set of predictors and responders "
   ]
  },
  {
   "cell_type": "code",
   "execution_count": 422,
   "metadata": {},
   "outputs": [],
   "source": [
    "x_columns=['Age', 'Gender', 'OwnHome', 'Married', 'Location(km)', 'Salary','Children', 'History', 'Catalogs', 'AmountSpent']\n",
    "y_columns=['Customer Segment']\n",
    "x_dataset = dataset[x_columns]\n",
    "y_dataset = dataset[y_columns]"
   ]
  },
  {
   "cell_type": "code",
   "execution_count": 423,
   "metadata": {},
   "outputs": [
    {
     "name": "stdout",
     "output_type": "stream",
     "text": [
      "     Age  Gender OwnHome  Married History\n",
      "0     58  Female     Own   Single    High\n",
      "1     39    Male    Rent   Single    High\n",
      "2     26  Female    Rent   Single     Low\n",
      "3     54    Male     Own  Married    High\n",
      "4     37  Female     Own   Single    High\n",
      "..   ...     ...     ...      ...     ...\n",
      "995   21  Female    Rent   Single     NaN\n",
      "996   43    Male    Rent   Single     NaN\n",
      "997   60    Male     Own   Single  Medium\n",
      "998   54    Male     Own  Married  Medium\n",
      "999   19    Male    Rent  Married  Medium\n",
      "\n",
      "[1000 rows x 5 columns]\n"
     ]
    }
   ],
   "source": [
    "print(x_dataset[['Age','Gender', 'OwnHome', 'Married','History']])"
   ]
  },
  {
   "cell_type": "code",
   "execution_count": 424,
   "metadata": {},
   "outputs": [],
   "source": [
    "x_datasetColumns=x_dataset.columns\n",
    "y_datasetColumns=y_dataset.columns"
   ]
  },
  {
   "cell_type": "code",
   "execution_count": 425,
   "metadata": {},
   "outputs": [],
   "source": [
    "categoricalData=x_dataset['Gender']\n",
    "encodeGender=pd.get_dummies(x_dataset['Gender'])\n",
    "encodeHome=pd.get_dummies(x_dataset['OwnHome'])\n",
    "encodeMarried=pd.get_dummies(x_dataset['Married'])\n",
    "encodeHistory=pd.get_dummies(x_dataset['History'])\n",
    "\n"
   ]
  },
  {
   "cell_type": "code",
   "execution_count": 426,
   "metadata": {},
   "outputs": [],
   "source": [
    "decodeGender=encodeGender.idxmax(1)"
   ]
  },
  {
   "cell_type": "code",
   "execution_count": 427,
   "metadata": {},
   "outputs": [
    {
     "name": "stdout",
     "output_type": "stream",
     "text": [
      "0      Female\n",
      "1        Male\n",
      "2      Female\n",
      "3        Male\n",
      "4      Female\n",
      "        ...  \n",
      "995    Female\n",
      "996      Male\n",
      "997      Male\n",
      "998      Male\n",
      "999      Male\n",
      "Length: 1000, dtype: object\n"
     ]
    }
   ],
   "source": [
    "print(decodeGender)"
   ]
  },
  {
   "cell_type": "code",
   "execution_count": 428,
   "metadata": {},
   "outputs": [
    {
     "name": "stdout",
     "output_type": "stream",
     "text": [
      "     Female  Male  Own  Rent  High  Low  Medium  Married  Single  Age  \\\n",
      "0         1     0    1     0     1    0       0        0       1   58   \n",
      "1         0     1    0     1     1    0       0        0       1   39   \n",
      "2         1     0    0     1     0    1       0        0       1   26   \n",
      "3         0     1    1     0     1    0       0        1       0   54   \n",
      "4         1     0    1     0     1    0       0        0       1   37   \n",
      "..      ...   ...  ...   ...   ...  ...     ...      ...     ...  ...   \n",
      "995       1     0    0     1     0    0       0        0       1   21   \n",
      "996       0     1    0     1     0    0       0        0       1   43   \n",
      "997       0     1    1     0     0    0       1        0       1   60   \n",
      "998       0     1    1     0     0    0       1        1       0   54   \n",
      "999       0     1    0     1     0    0       1        1       0   19   \n",
      "\n",
      "     Location(km)  Salary  Children  Catalogs  AmountSpent  \n",
      "0           12.37   47500         0         6          755  \n",
      "1            5.37   63600         0         6         1318  \n",
      "2            3.02   13500         0        18          296  \n",
      "3            6.53   85600         1        18         2436  \n",
      "4            3.04   68400         0        12         1304  \n",
      "..            ...     ...       ...       ...          ...  \n",
      "995          3.76   19400         1        18          384  \n",
      "996         11.18   40500         1        18         1073  \n",
      "997          7.35   44800         0        24         1417  \n",
      "998          3.67   79000         2        18          671  \n",
      "999          7.79   53600         1        24          973  \n",
      "\n",
      "[1000 rows x 15 columns]\n"
     ]
    }
   ],
   "source": [
    "encodedData=pd.concat([encodeGender,encodeHome,encodeHistory,encodeMarried,x_dataset[['Age', 'Location(km)', 'Salary','Children','Catalogs', 'AmountSpent']]],axis=1)\n",
    "print(encodedData)"
   ]
  },
  {
   "cell_type": "code",
   "execution_count": 429,
   "metadata": {},
   "outputs": [],
   "source": [
    "x_datasetColumns=encodedData.columns"
   ]
  },
  {
   "cell_type": "code",
   "execution_count": 430,
   "metadata": {},
   "outputs": [
    {
     "name": "stdout",
     "output_type": "stream",
     "text": [
      "Index(['Female', 'Male', 'Own', 'Rent', 'High', 'Low', 'Medium', 'Married',\n",
      "       'Single', 'Age', 'Location(km)', 'Salary', 'Children', 'Catalogs',\n",
      "       'AmountSpent'],\n",
      "      dtype='object')\n"
     ]
    }
   ],
   "source": [
    "print(x_datasetColumns)"
   ]
  },
  {
   "cell_type": "code",
   "execution_count": 431,
   "metadata": {},
   "outputs": [],
   "source": [
    "x_dataset=encodedData.iloc[:,:].values\n",
    "y_dataset =y_dataset.iloc[:,:].values"
   ]
  },
  {
   "cell_type": "markdown",
   "metadata": {},
   "source": [
    "### Changing categorical values into numerical values"
   ]
  },
  {
   "cell_type": "code",
   "execution_count": 432,
   "metadata": {},
   "outputs": [
    {
     "name": "stderr",
     "output_type": "stream",
     "text": [
      "c:\\Users\\Banele_Home\\AppData\\Local\\Programs\\Python\\Python310\\lib\\site-packages\\sklearn\\preprocessing\\_label.py:115: DataConversionWarning: A column-vector y was passed when a 1d array was expected. Please change the shape of y to (n_samples, ), for example using ravel().\n",
      "  y = column_or_1d(y, warn=True)\n"
     ]
    }
   ],
   "source": [
    "from sklearn.preprocessing import LabelEncoder\n",
    "lb=LabelEncoder()\n",
    "y_dataset=lb.fit_transform(y_dataset)\n",
    "\n"
   ]
  },
  {
   "cell_type": "markdown",
   "metadata": {},
   "source": [
    "### Splitting the data into train dataset and test dataset"
   ]
  },
  {
   "cell_type": "code",
   "execution_count": 433,
   "metadata": {},
   "outputs": [],
   "source": [
    "from sklearn.model_selection import train_test_split\n",
    "x_train, x_test, y_train, y_test=train_test_split(x_dataset,y_dataset,test_size=0.2, random_state=1)"
   ]
  },
  {
   "cell_type": "code",
   "execution_count": 434,
   "metadata": {},
   "outputs": [
    {
     "name": "stdout",
     "output_type": "stream",
     "text": [
      "[1.000e+00 0.000e+00 1.000e+00 0.000e+00 1.000e+00 0.000e+00 0.000e+00\n",
      " 0.000e+00 1.000e+00 5.800e+01 1.237e+01 4.750e+04 0.000e+00 6.000e+00\n",
      " 7.550e+02]\n"
     ]
    }
   ],
   "source": [
    "print(x_dataset[0,:])"
   ]
  },
  {
   "cell_type": "markdown",
   "metadata": {},
   "source": [
    "### Feature Scaling of the variables"
   ]
  },
  {
   "cell_type": "code",
   "execution_count": 435,
   "metadata": {},
   "outputs": [],
   "source": [
    "from sklearn.preprocessing import StandardScaler\n",
    "sc=StandardScaler()\n",
    "x_train[:,7:]=sc.fit_transform(x_train[:,7:])\n",
    "x_test[:,7:]=sc.transform(x_test[:,7:])"
   ]
  },
  {
   "cell_type": "code",
   "execution_count": 436,
   "metadata": {},
   "outputs": [
    {
     "name": "stdout",
     "output_type": "stream",
     "text": [
      "[ 0.          1.          0.          1.          0.          0.\n",
      "  0.         -0.99252792  0.99252792 -1.06014183 -0.93209764 -1.25022859\n",
      " -0.88168494 -1.30249089 -0.97240374]\n"
     ]
    }
   ],
   "source": [
    "print(x_train[1,:])"
   ]
  },
  {
   "cell_type": "markdown",
   "metadata": {},
   "source": [
    "### Implementing the model (Random Forest classification models)"
   ]
  },
  {
   "cell_type": "code",
   "execution_count": 437,
   "metadata": {},
   "outputs": [
    {
     "data": {
      "text/html": [
       "<style>#sk-container-id-14 {color: black;background-color: white;}#sk-container-id-14 pre{padding: 0;}#sk-container-id-14 div.sk-toggleable {background-color: white;}#sk-container-id-14 label.sk-toggleable__label {cursor: pointer;display: block;width: 100%;margin-bottom: 0;padding: 0.3em;box-sizing: border-box;text-align: center;}#sk-container-id-14 label.sk-toggleable__label-arrow:before {content: \"▸\";float: left;margin-right: 0.25em;color: #696969;}#sk-container-id-14 label.sk-toggleable__label-arrow:hover:before {color: black;}#sk-container-id-14 div.sk-estimator:hover label.sk-toggleable__label-arrow:before {color: black;}#sk-container-id-14 div.sk-toggleable__content {max-height: 0;max-width: 0;overflow: hidden;text-align: left;background-color: #f0f8ff;}#sk-container-id-14 div.sk-toggleable__content pre {margin: 0.2em;color: black;border-radius: 0.25em;background-color: #f0f8ff;}#sk-container-id-14 input.sk-toggleable__control:checked~div.sk-toggleable__content {max-height: 200px;max-width: 100%;overflow: auto;}#sk-container-id-14 input.sk-toggleable__control:checked~label.sk-toggleable__label-arrow:before {content: \"▾\";}#sk-container-id-14 div.sk-estimator input.sk-toggleable__control:checked~label.sk-toggleable__label {background-color: #d4ebff;}#sk-container-id-14 div.sk-label input.sk-toggleable__control:checked~label.sk-toggleable__label {background-color: #d4ebff;}#sk-container-id-14 input.sk-hidden--visually {border: 0;clip: rect(1px 1px 1px 1px);clip: rect(1px, 1px, 1px, 1px);height: 1px;margin: -1px;overflow: hidden;padding: 0;position: absolute;width: 1px;}#sk-container-id-14 div.sk-estimator {font-family: monospace;background-color: #f0f8ff;border: 1px dotted black;border-radius: 0.25em;box-sizing: border-box;margin-bottom: 0.5em;}#sk-container-id-14 div.sk-estimator:hover {background-color: #d4ebff;}#sk-container-id-14 div.sk-parallel-item::after {content: \"\";width: 100%;border-bottom: 1px solid gray;flex-grow: 1;}#sk-container-id-14 div.sk-label:hover label.sk-toggleable__label {background-color: #d4ebff;}#sk-container-id-14 div.sk-serial::before {content: \"\";position: absolute;border-left: 1px solid gray;box-sizing: border-box;top: 0;bottom: 0;left: 50%;z-index: 0;}#sk-container-id-14 div.sk-serial {display: flex;flex-direction: column;align-items: center;background-color: white;padding-right: 0.2em;padding-left: 0.2em;position: relative;}#sk-container-id-14 div.sk-item {position: relative;z-index: 1;}#sk-container-id-14 div.sk-parallel {display: flex;align-items: stretch;justify-content: center;background-color: white;position: relative;}#sk-container-id-14 div.sk-item::before, #sk-container-id-14 div.sk-parallel-item::before {content: \"\";position: absolute;border-left: 1px solid gray;box-sizing: border-box;top: 0;bottom: 0;left: 50%;z-index: -1;}#sk-container-id-14 div.sk-parallel-item {display: flex;flex-direction: column;z-index: 1;position: relative;background-color: white;}#sk-container-id-14 div.sk-parallel-item:first-child::after {align-self: flex-end;width: 50%;}#sk-container-id-14 div.sk-parallel-item:last-child::after {align-self: flex-start;width: 50%;}#sk-container-id-14 div.sk-parallel-item:only-child::after {width: 0;}#sk-container-id-14 div.sk-dashed-wrapped {border: 1px dashed gray;margin: 0 0.4em 0.5em 0.4em;box-sizing: border-box;padding-bottom: 0.4em;background-color: white;}#sk-container-id-14 div.sk-label label {font-family: monospace;font-weight: bold;display: inline-block;line-height: 1.2em;}#sk-container-id-14 div.sk-label-container {text-align: center;}#sk-container-id-14 div.sk-container {/* jupyter's `normalize.less` sets `[hidden] { display: none; }` but bootstrap.min.css set `[hidden] { display: none !important; }` so we also need the `!important` here to be able to override the default hidden behavior on the sphinx rendered scikit-learn.org. See: https://github.com/scikit-learn/scikit-learn/issues/21755 */display: inline-block !important;position: relative;}#sk-container-id-14 div.sk-text-repr-fallback {display: none;}</style><div id=\"sk-container-id-14\" class=\"sk-top-container\"><div class=\"sk-text-repr-fallback\"><pre>RandomForestClassifier(criterion=&#x27;entropy&#x27;, n_estimators=10, random_state=0)</pre><b>In a Jupyter environment, please rerun this cell to show the HTML representation or trust the notebook. <br />On GitHub, the HTML representation is unable to render, please try loading this page with nbviewer.org.</b></div><div class=\"sk-container\" hidden><div class=\"sk-item\"><div class=\"sk-estimator sk-toggleable\"><input class=\"sk-toggleable__control sk-hidden--visually\" id=\"sk-estimator-id-14\" type=\"checkbox\" checked><label for=\"sk-estimator-id-14\" class=\"sk-toggleable__label sk-toggleable__label-arrow\">RandomForestClassifier</label><div class=\"sk-toggleable__content\"><pre>RandomForestClassifier(criterion=&#x27;entropy&#x27;, n_estimators=10, random_state=0)</pre></div></div></div></div></div>"
      ],
      "text/plain": [
       "RandomForestClassifier(criterion='entropy', n_estimators=10, random_state=0)"
      ]
     },
     "execution_count": 437,
     "metadata": {},
     "output_type": "execute_result"
    }
   ],
   "source": [
    "from sklearn.ensemble import RandomForestClassifier\n",
    "classifier = RandomForestClassifier(n_estimators = 10, criterion = 'entropy', random_state = 0)\n",
    "classifier.fit(x_train, y_train)"
   ]
  },
  {
   "cell_type": "code",
   "execution_count": 438,
   "metadata": {},
   "outputs": [
    {
     "name": "stdout",
     "output_type": "stream",
     "text": [
      "0.98\n"
     ]
    }
   ],
   "source": [
    "from sklearn.metrics import confusion_matrix, accuracy_score,f1_score,precision_score, recall_score\n",
    "y_pred = classifier.predict(x_test)\n",
    "accuracy=accuracy_score(y_test, y_pred)\n",
    "print(accuracy)\n",
    "precision=precision_score(y_test, y_pred,average='macro')\n",
    "recall=recall_score(y_test,y_pred,average='macro')\n",
    "accuracy_measures=pd.DataFrame([accuracy,precision,recall],columns=[\"Accuracy Measures\"],index=[\"accuracy score\",\"precision score\",\"recall score\"])\n",
    "accuracy_measures.to_csv('Accuracy metrics not using preserving privacy techniques in Advanced analytics.csv')\n"
   ]
  },
  {
   "cell_type": "code",
   "execution_count": 439,
   "metadata": {},
   "outputs": [
    {
     "name": "stdout",
     "output_type": "stream",
     "text": [
      "0.9863945578231292\n"
     ]
    }
   ],
   "source": [
    "print(precision)"
   ]
  },
  {
   "cell_type": "code",
   "execution_count": 440,
   "metadata": {},
   "outputs": [
    {
     "name": "stdout",
     "output_type": "stream",
     "text": [
      "0.9746986513903807\n"
     ]
    }
   ],
   "source": [
    "print(recall)"
   ]
  },
  {
   "cell_type": "code",
   "execution_count": 441,
   "metadata": {},
   "outputs": [],
   "source": [
    "x_test[:,7:]=sc.inverse_transform(x_test[:,7:])\n",
    "y_test=lb.inverse_transform(y_test)\n",
    "y_pred=lb.inverse_transform(y_pred)\n",
    "\n",
    "\n"
   ]
  },
  {
   "cell_type": "code",
   "execution_count": 442,
   "metadata": {},
   "outputs": [],
   "source": [
    "y_test=pd.DataFrame(y_test,columns=[\"Actual Customer segments\"])\n",
    "y_pred=pd.DataFrame(y_pred,columns=[\"Predicted Customer segments\"])"
   ]
  },
  {
   "cell_type": "code",
   "execution_count": 443,
   "metadata": {},
   "outputs": [
    {
     "name": "stdout",
     "output_type": "stream",
     "text": [
      "    Actual Customer segments\n",
      "0               Medium value\n",
      "1                 High value\n",
      "2               Medium value\n",
      "3               Medium value\n",
      "4               Medium value\n",
      "..                       ...\n",
      "195               High value\n",
      "196             Medium value\n",
      "197             Medium value\n",
      "198                Low value\n",
      "199                Low value\n",
      "\n",
      "[200 rows x 1 columns]\n"
     ]
    }
   ],
   "source": [
    "print(y_test)"
   ]
  },
  {
   "cell_type": "code",
   "execution_count": 444,
   "metadata": {},
   "outputs": [],
   "source": [
    "y_set=pd.concat([y_test,y_pred],axis=1)"
   ]
  },
  {
   "cell_type": "code",
   "execution_count": 445,
   "metadata": {},
   "outputs": [
    {
     "name": "stdout",
     "output_type": "stream",
     "text": [
      "  Actual Customer segments Predicted Customer segments\n",
      "0             Medium value                Medium value\n",
      "1               High value                  High value\n",
      "2             Medium value                Medium value\n",
      "3             Medium value                Medium value\n",
      "4             Medium value                Medium value\n"
     ]
    }
   ],
   "source": [
    "print(y_set.head())"
   ]
  },
  {
   "cell_type": "code",
   "execution_count": 446,
   "metadata": {},
   "outputs": [
    {
     "name": "stdout",
     "output_type": "stream",
     "text": [
      "     Female  Male  Own  Rent  High  Low  Medium  Married  Single   Age  \\\n",
      "0       0.0   1.0  0.0   1.0   0.0  0.0     0.0      0.0     1.0  49.0   \n",
      "1       1.0   0.0  0.0   1.0   0.0  0.0     0.0      1.0     0.0  48.0   \n",
      "2       0.0   1.0  1.0   0.0   1.0  0.0     0.0      0.0     1.0  40.0   \n",
      "3       1.0   0.0  0.0   1.0   0.0  0.0     1.0      1.0     0.0  44.0   \n",
      "4       0.0   1.0  1.0   0.0   1.0  0.0     0.0      1.0     0.0  66.0   \n",
      "..      ...   ...  ...   ...   ...  ...     ...      ...     ...   ...   \n",
      "195     0.0   1.0  1.0   0.0   1.0  0.0     0.0      1.0     0.0  64.0   \n",
      "196     0.0   1.0  1.0   0.0   0.0  0.0     1.0      1.0     0.0  51.0   \n",
      "197     1.0   0.0  0.0   1.0   0.0  0.0     1.0      1.0     0.0  56.0   \n",
      "198     0.0   1.0  1.0   0.0   0.0  1.0     0.0      1.0     0.0  42.0   \n",
      "199     1.0   0.0  0.0   1.0   0.0  0.0     0.0      0.0     1.0  27.0   \n",
      "\n",
      "     Location(km)    Salary  Children  Catalogs  AmountSpent  \n",
      "0            3.70   52400.0       0.0      18.0        857.0  \n",
      "1           18.74   92400.0       1.0       6.0       2191.0  \n",
      "2           11.96   50100.0       1.0      18.0       1071.0  \n",
      "3            6.29   46700.0       0.0      24.0        983.0  \n",
      "4            5.75  107400.0       0.0      12.0       1485.0  \n",
      "..            ...       ...       ...       ...          ...  \n",
      "195         14.53   41300.0       0.0      24.0       1985.0  \n",
      "196          6.01   54200.0       1.0       6.0        757.0  \n",
      "197          4.77   38200.0       0.0       6.0        526.0  \n",
      "198          5.63   60500.0       3.0      12.0        340.0  \n",
      "199          2.90   26700.0       1.0      12.0        459.0  \n",
      "\n",
      "[200 rows x 15 columns]\n"
     ]
    }
   ],
   "source": [
    "tableData =pd.DataFrame(x_test,columns=x_datasetColumns) \n",
    "print(tableData)"
   ]
  },
  {
   "cell_type": "code",
   "execution_count": 447,
   "metadata": {},
   "outputs": [],
   "source": [
    "tableData[\"Gender\"]=tableData[[\"Female\",\"Male\"]].idxmax(1)\n",
    "tableData[\"OwnHome\"]=tableData[[\"Own\",\"Rent\"]].idxmax(1)\n",
    "tableData[\"History\"]=tableData[[\"High\",\"Medium\",\"Low\"]].idxmax(1)\n",
    "tableData[\"Married\"]=tableData[[\"Married\",\"Single\"]].idxmax(1)\n",
    "tableData=tableData.drop([\"Female\",\"Male\",\"Own\",\"Rent\",\"High\",\"Low\",\"Medium\",\"Single\"],axis=1)\n",
    "tableData=tableData.reindex(columns=x_columns)\n",
    "tableData=pd.concat([tableData,y_set],axis=1)"
   ]
  },
  {
   "cell_type": "code",
   "execution_count": 448,
   "metadata": {},
   "outputs": [
    {
     "name": "stdout",
     "output_type": "stream",
     "text": [
      "    Age  Gender OwnHome  Married  Location(km)    Salary  Children History  \\\n",
      "0  49.0    Male    Rent   Single          3.70   52400.0       0.0    High   \n",
      "1  48.0  Female    Rent  Married         18.74   92400.0       1.0    High   \n",
      "2  40.0    Male     Own   Single         11.96   50100.0       1.0    High   \n",
      "3  44.0  Female    Rent  Married          6.29   46700.0       0.0  Medium   \n",
      "4  66.0    Male     Own  Married          5.75  107400.0       0.0    High   \n",
      "\n",
      "   Catalogs  AmountSpent Actual Customer segments Predicted Customer segments  \n",
      "0      18.0        857.0             Medium value                Medium value  \n",
      "1       6.0       2191.0               High value                  High value  \n",
      "2      18.0       1071.0             Medium value                Medium value  \n",
      "3      24.0        983.0             Medium value                Medium value  \n",
      "4      12.0       1485.0             Medium value                Medium value  \n"
     ]
    }
   ],
   "source": [
    "print(tableData.head())"
   ]
  },
  {
   "cell_type": "code",
   "execution_count": 449,
   "metadata": {},
   "outputs": [],
   "source": [
    "tableData.to_csv('Advanced analytics without preserving privacy techniques.csv', index=False)"
   ]
  }
 ],
 "metadata": {
  "kernelspec": {
   "display_name": "Python 3.10.7 64-bit",
   "language": "python",
   "name": "python3"
  },
  "language_info": {
   "codemirror_mode": {
    "name": "ipython",
    "version": 3
   },
   "file_extension": ".py",
   "mimetype": "text/x-python",
   "name": "python",
   "nbconvert_exporter": "python",
   "pygments_lexer": "ipython3",
   "version": "3.10.7"
  },
  "orig_nbformat": 4,
  "vscode": {
   "interpreter": {
    "hash": "32cb129f7520a2e4dbeffe6e337825ee6ffec9768156d63a4b0a365eb303abd2"
   }
  }
 },
 "nbformat": 4,
 "nbformat_minor": 2
}
