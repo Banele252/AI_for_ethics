{
 "cells": [
  {
   "cell_type": "markdown",
   "metadata": {},
   "source": [
    "## Direct Marketing without using Privacy-preserving techniques"
   ]
  },
  {
   "cell_type": "markdown",
   "metadata": {},
   "source": [
    "### Import all necessary libraries "
   ]
  },
  {
   "cell_type": "code",
   "execution_count": 665,
   "metadata": {},
   "outputs": [],
   "source": [
    "import numpy as np\n",
    "import matplotlib.pyplot as plt\n",
    "import pandas as pd\n",
    "import random"
   ]
  },
  {
   "cell_type": "markdown",
   "metadata": {},
   "source": [
    "### Import the dataset"
   ]
  },
  {
   "cell_type": "code",
   "execution_count": 666,
   "metadata": {},
   "outputs": [
    {
     "data": {
      "text/html": [
       "<div>\n",
       "<style scoped>\n",
       "    .dataframe tbody tr th:only-of-type {\n",
       "        vertical-align: middle;\n",
       "    }\n",
       "\n",
       "    .dataframe tbody tr th {\n",
       "        vertical-align: top;\n",
       "    }\n",
       "\n",
       "    .dataframe thead th {\n",
       "        text-align: right;\n",
       "    }\n",
       "</style>\n",
       "<table border=\"1\" class=\"dataframe\">\n",
       "  <thead>\n",
       "    <tr style=\"text-align: right;\">\n",
       "      <th></th>\n",
       "      <th>Age</th>\n",
       "      <th>Gender</th>\n",
       "      <th>OwnHome</th>\n",
       "      <th>Married</th>\n",
       "      <th>Location(km)</th>\n",
       "      <th>Salary</th>\n",
       "      <th>Children</th>\n",
       "      <th>History</th>\n",
       "      <th>Catalogs</th>\n",
       "      <th>AmountSpent</th>\n",
       "      <th>Customer Segment</th>\n",
       "    </tr>\n",
       "  </thead>\n",
       "  <tbody>\n",
       "    <tr>\n",
       "      <th>0</th>\n",
       "      <td>58</td>\n",
       "      <td>Female</td>\n",
       "      <td>Own</td>\n",
       "      <td>Single</td>\n",
       "      <td>12.37</td>\n",
       "      <td>47500</td>\n",
       "      <td>0</td>\n",
       "      <td>High</td>\n",
       "      <td>6</td>\n",
       "      <td>755</td>\n",
       "      <td>Medium value</td>\n",
       "    </tr>\n",
       "    <tr>\n",
       "      <th>1</th>\n",
       "      <td>39</td>\n",
       "      <td>Male</td>\n",
       "      <td>Rent</td>\n",
       "      <td>Single</td>\n",
       "      <td>5.37</td>\n",
       "      <td>63600</td>\n",
       "      <td>0</td>\n",
       "      <td>High</td>\n",
       "      <td>6</td>\n",
       "      <td>1318</td>\n",
       "      <td>Medium value</td>\n",
       "    </tr>\n",
       "    <tr>\n",
       "      <th>2</th>\n",
       "      <td>26</td>\n",
       "      <td>Female</td>\n",
       "      <td>Rent</td>\n",
       "      <td>Single</td>\n",
       "      <td>3.02</td>\n",
       "      <td>13500</td>\n",
       "      <td>0</td>\n",
       "      <td>Low</td>\n",
       "      <td>18</td>\n",
       "      <td>296</td>\n",
       "      <td>Low value</td>\n",
       "    </tr>\n",
       "    <tr>\n",
       "      <th>3</th>\n",
       "      <td>54</td>\n",
       "      <td>Male</td>\n",
       "      <td>Own</td>\n",
       "      <td>Married</td>\n",
       "      <td>6.53</td>\n",
       "      <td>85600</td>\n",
       "      <td>1</td>\n",
       "      <td>High</td>\n",
       "      <td>18</td>\n",
       "      <td>2436</td>\n",
       "      <td>High value</td>\n",
       "    </tr>\n",
       "    <tr>\n",
       "      <th>4</th>\n",
       "      <td>37</td>\n",
       "      <td>Female</td>\n",
       "      <td>Own</td>\n",
       "      <td>Single</td>\n",
       "      <td>3.04</td>\n",
       "      <td>68400</td>\n",
       "      <td>0</td>\n",
       "      <td>High</td>\n",
       "      <td>12</td>\n",
       "      <td>1304</td>\n",
       "      <td>Medium value</td>\n",
       "    </tr>\n",
       "  </tbody>\n",
       "</table>\n",
       "</div>"
      ],
      "text/plain": [
       "   Age  Gender OwnHome  Married  Location(km)  Salary  Children History  \\\n",
       "0   58  Female     Own   Single         12.37   47500         0    High   \n",
       "1   39    Male    Rent   Single          5.37   63600         0    High   \n",
       "2   26  Female    Rent   Single          3.02   13500         0     Low   \n",
       "3   54    Male     Own  Married          6.53   85600         1    High   \n",
       "4   37  Female     Own   Single          3.04   68400         0    High   \n",
       "\n",
       "   Catalogs  AmountSpent Customer Segment  \n",
       "0         6          755     Medium value  \n",
       "1         6         1318     Medium value  \n",
       "2        18          296        Low value  \n",
       "3        18         2436       High value  \n",
       "4        12         1304     Medium value  "
      ]
     },
     "execution_count": 666,
     "metadata": {},
     "output_type": "execute_result"
    }
   ],
   "source": [
    "dataset=pd.read_csv(\"DirectMarketing.csv\")\n",
    "dataset.head()"
   ]
  },
  {
   "cell_type": "markdown",
   "metadata": {},
   "source": [
    "Removing rows that have NaN values "
   ]
  },
  {
   "cell_type": "code",
   "execution_count": 667,
   "metadata": {},
   "outputs": [
    {
     "data": {
      "text/html": [
       "<div>\n",
       "<style scoped>\n",
       "    .dataframe tbody tr th:only-of-type {\n",
       "        vertical-align: middle;\n",
       "    }\n",
       "\n",
       "    .dataframe tbody tr th {\n",
       "        vertical-align: top;\n",
       "    }\n",
       "\n",
       "    .dataframe thead th {\n",
       "        text-align: right;\n",
       "    }\n",
       "</style>\n",
       "<table border=\"1\" class=\"dataframe\">\n",
       "  <thead>\n",
       "    <tr style=\"text-align: right;\">\n",
       "      <th></th>\n",
       "      <th>Age</th>\n",
       "      <th>Gender</th>\n",
       "      <th>OwnHome</th>\n",
       "      <th>Married</th>\n",
       "      <th>Location(km)</th>\n",
       "      <th>Salary</th>\n",
       "      <th>Children</th>\n",
       "      <th>History</th>\n",
       "      <th>Catalogs</th>\n",
       "      <th>AmountSpent</th>\n",
       "      <th>Customer Segment</th>\n",
       "    </tr>\n",
       "  </thead>\n",
       "  <tbody>\n",
       "    <tr>\n",
       "      <th>0</th>\n",
       "      <td>58</td>\n",
       "      <td>Female</td>\n",
       "      <td>Own</td>\n",
       "      <td>Single</td>\n",
       "      <td>12.37</td>\n",
       "      <td>47500</td>\n",
       "      <td>0</td>\n",
       "      <td>High</td>\n",
       "      <td>6</td>\n",
       "      <td>755</td>\n",
       "      <td>Medium value</td>\n",
       "    </tr>\n",
       "    <tr>\n",
       "      <th>1</th>\n",
       "      <td>39</td>\n",
       "      <td>Male</td>\n",
       "      <td>Rent</td>\n",
       "      <td>Single</td>\n",
       "      <td>5.37</td>\n",
       "      <td>63600</td>\n",
       "      <td>0</td>\n",
       "      <td>High</td>\n",
       "      <td>6</td>\n",
       "      <td>1318</td>\n",
       "      <td>Medium value</td>\n",
       "    </tr>\n",
       "    <tr>\n",
       "      <th>2</th>\n",
       "      <td>26</td>\n",
       "      <td>Female</td>\n",
       "      <td>Rent</td>\n",
       "      <td>Single</td>\n",
       "      <td>3.02</td>\n",
       "      <td>13500</td>\n",
       "      <td>0</td>\n",
       "      <td>Low</td>\n",
       "      <td>18</td>\n",
       "      <td>296</td>\n",
       "      <td>Low value</td>\n",
       "    </tr>\n",
       "    <tr>\n",
       "      <th>3</th>\n",
       "      <td>54</td>\n",
       "      <td>Male</td>\n",
       "      <td>Own</td>\n",
       "      <td>Married</td>\n",
       "      <td>6.53</td>\n",
       "      <td>85600</td>\n",
       "      <td>1</td>\n",
       "      <td>High</td>\n",
       "      <td>18</td>\n",
       "      <td>2436</td>\n",
       "      <td>High value</td>\n",
       "    </tr>\n",
       "    <tr>\n",
       "      <th>4</th>\n",
       "      <td>37</td>\n",
       "      <td>Female</td>\n",
       "      <td>Own</td>\n",
       "      <td>Single</td>\n",
       "      <td>3.04</td>\n",
       "      <td>68400</td>\n",
       "      <td>0</td>\n",
       "      <td>High</td>\n",
       "      <td>12</td>\n",
       "      <td>1304</td>\n",
       "      <td>Medium value</td>\n",
       "    </tr>\n",
       "    <tr>\n",
       "      <th>...</th>\n",
       "      <td>...</td>\n",
       "      <td>...</td>\n",
       "      <td>...</td>\n",
       "      <td>...</td>\n",
       "      <td>...</td>\n",
       "      <td>...</td>\n",
       "      <td>...</td>\n",
       "      <td>...</td>\n",
       "      <td>...</td>\n",
       "      <td>...</td>\n",
       "      <td>...</td>\n",
       "    </tr>\n",
       "    <tr>\n",
       "      <th>991</th>\n",
       "      <td>69</td>\n",
       "      <td>Female</td>\n",
       "      <td>Rent</td>\n",
       "      <td>Single</td>\n",
       "      <td>15.20</td>\n",
       "      <td>11700</td>\n",
       "      <td>0</td>\n",
       "      <td>Low</td>\n",
       "      <td>18</td>\n",
       "      <td>540</td>\n",
       "      <td>Medium value</td>\n",
       "    </tr>\n",
       "    <tr>\n",
       "      <th>993</th>\n",
       "      <td>54</td>\n",
       "      <td>Female</td>\n",
       "      <td>Own</td>\n",
       "      <td>Married</td>\n",
       "      <td>15.13</td>\n",
       "      <td>99200</td>\n",
       "      <td>0</td>\n",
       "      <td>High</td>\n",
       "      <td>24</td>\n",
       "      <td>5503</td>\n",
       "      <td>High value</td>\n",
       "    </tr>\n",
       "    <tr>\n",
       "      <th>997</th>\n",
       "      <td>60</td>\n",
       "      <td>Male</td>\n",
       "      <td>Own</td>\n",
       "      <td>Single</td>\n",
       "      <td>7.35</td>\n",
       "      <td>44800</td>\n",
       "      <td>0</td>\n",
       "      <td>Medium</td>\n",
       "      <td>24</td>\n",
       "      <td>1417</td>\n",
       "      <td>Medium value</td>\n",
       "    </tr>\n",
       "    <tr>\n",
       "      <th>998</th>\n",
       "      <td>54</td>\n",
       "      <td>Male</td>\n",
       "      <td>Own</td>\n",
       "      <td>Married</td>\n",
       "      <td>3.67</td>\n",
       "      <td>79000</td>\n",
       "      <td>2</td>\n",
       "      <td>Medium</td>\n",
       "      <td>18</td>\n",
       "      <td>671</td>\n",
       "      <td>Medium value</td>\n",
       "    </tr>\n",
       "    <tr>\n",
       "      <th>999</th>\n",
       "      <td>19</td>\n",
       "      <td>Male</td>\n",
       "      <td>Rent</td>\n",
       "      <td>Married</td>\n",
       "      <td>7.79</td>\n",
       "      <td>53600</td>\n",
       "      <td>1</td>\n",
       "      <td>Medium</td>\n",
       "      <td>24</td>\n",
       "      <td>973</td>\n",
       "      <td>Medium value</td>\n",
       "    </tr>\n",
       "  </tbody>\n",
       "</table>\n",
       "<p>697 rows × 11 columns</p>\n",
       "</div>"
      ],
      "text/plain": [
       "     Age  Gender OwnHome  Married  Location(km)  Salary  Children History  \\\n",
       "0     58  Female     Own   Single         12.37   47500         0    High   \n",
       "1     39    Male    Rent   Single          5.37   63600         0    High   \n",
       "2     26  Female    Rent   Single          3.02   13500         0     Low   \n",
       "3     54    Male     Own  Married          6.53   85600         1    High   \n",
       "4     37  Female     Own   Single          3.04   68400         0    High   \n",
       "..   ...     ...     ...      ...           ...     ...       ...     ...   \n",
       "991   69  Female    Rent   Single         15.20   11700         0     Low   \n",
       "993   54  Female     Own  Married         15.13   99200         0    High   \n",
       "997   60    Male     Own   Single          7.35   44800         0  Medium   \n",
       "998   54    Male     Own  Married          3.67   79000         2  Medium   \n",
       "999   19    Male    Rent  Married          7.79   53600         1  Medium   \n",
       "\n",
       "     Catalogs  AmountSpent Customer Segment  \n",
       "0           6          755     Medium value  \n",
       "1           6         1318     Medium value  \n",
       "2          18          296        Low value  \n",
       "3          18         2436       High value  \n",
       "4          12         1304     Medium value  \n",
       "..        ...          ...              ...  \n",
       "991        18          540     Medium value  \n",
       "993        24         5503       High value  \n",
       "997        24         1417     Medium value  \n",
       "998        18          671     Medium value  \n",
       "999        24          973     Medium value  \n",
       "\n",
       "[697 rows x 11 columns]"
      ]
     },
     "execution_count": 667,
     "metadata": {},
     "output_type": "execute_result"
    }
   ],
   "source": [
    "dataset.dropna(axis=0)"
   ]
  },
  {
   "cell_type": "code",
   "execution_count": 668,
   "metadata": {},
   "outputs": [
    {
     "name": "stderr",
     "output_type": "stream",
     "text": [
      "C:\\Users\\Banele_Home\\AppData\\Local\\Temp\\ipykernel_15204\\1653625049.py:14: SettingWithCopyWarning: \n",
      "A value is trying to be set on a copy of a slice from a DataFrame\n",
      "\n",
      "See the caveats in the documentation: https://pandas.pydata.org/pandas-docs/stable/user_guide/indexing.html#returning-a-view-versus-a-copy\n",
      "  dataset[\"Customer Segment\"][index]='*'*round(len(segment)*words_con)+segment[(round(len(segment)*words_con)):]\n",
      "C:\\Users\\Banele_Home\\AppData\\Local\\Temp\\ipykernel_15204\\1653625049.py:11: SettingWithCopyWarning: \n",
      "A value is trying to be set on a copy of a slice from a DataFrame\n",
      "\n",
      "See the caveats in the documentation: https://pandas.pydata.org/pandas-docs/stable/user_guide/indexing.html#returning-a-view-versus-a-copy\n",
      "  dataset[\"Customer Segment\"][index]=segment[:(round(len(segment))-round(len(segment)*words_con))] +'*'*round(len(segment)*words_con)\n",
      "C:\\Users\\Banele_Home\\AppData\\Local\\Temp\\ipykernel_15204\\1653625049.py:23: SettingWithCopyWarning: \n",
      "A value is trying to be set on a copy of a slice from a DataFrame\n",
      "\n",
      "See the caveats in the documentation: https://pandas.pydata.org/pandas-docs/stable/user_guide/indexing.html#returning-a-view-versus-a-copy\n",
      "  dataset[\"Location(km)\"][index]=\"Far\"\n",
      "C:\\Users\\Banele_Home\\AppData\\Local\\Temp\\ipykernel_15204\\1653625049.py:36: SettingWithCopyWarning: \n",
      "A value is trying to be set on a copy of a slice from a DataFrame\n",
      "\n",
      "See the caveats in the documentation: https://pandas.pydata.org/pandas-docs/stable/user_guide/indexing.html#returning-a-view-versus-a-copy\n",
      "  dataset[\"Age\"][index]=\"Old Adulthood\"\n",
      "C:\\Users\\Banele_Home\\AppData\\Local\\Temp\\ipykernel_15204\\1653625049.py:44: SettingWithCopyWarning: \n",
      "A value is trying to be set on a copy of a slice from a DataFrame\n",
      "\n",
      "See the caveats in the documentation: https://pandas.pydata.org/pandas-docs/stable/user_guide/indexing.html#returning-a-view-versus-a-copy\n",
      "  dataset[\"Children\"][index]=\"Few\"\n"
     ]
    }
   ],
   "source": [
    "dataset[\"Gender\"] = ['*' for x in dataset[\"Gender\"]]\n",
    "dataset[\"Married\"]=[(('*'*(round(len(x)*.7))) + x[(round(len(x)*.7)):]) for x in dataset[\"Married\"]]\n",
    "dataset[\"OwnHome\"]=[(('*'*(round(len(x)*.7))) + x[(round(len(x)*.7)):]) for x in dataset[\"OwnHome\"]]\n",
    "dataset[\"History\"]=['**' for x in dataset[\"History\"]]\n",
    "\n",
    "index=0\n",
    "for segment in dataset[\"Customer Segment\"]:\n",
    "    random_index= random.randint(4,8)\n",
    "    if random_index>5:\n",
    "        words_con=random_index/10\n",
    "        dataset[\"Customer Segment\"][index]=segment[:(round(len(segment))-round(len(segment)*words_con))] +'*'*round(len(segment)*words_con)\n",
    "    elif random_index<=5:\n",
    "        words_con=random_index/10\n",
    "        dataset[\"Customer Segment\"][index]='*'*round(len(segment)*words_con)+segment[(round(len(segment)*words_con)):] \n",
    "    index+=1\n",
    "\n",
    "\n",
    "\n",
    "\n",
    "index=0\n",
    "for distance in dataset[\"Location(km)\"]:\n",
    "    if distance>8:\n",
    "        dataset[\"Location(km)\"][index]=\"Far\"\n",
    "    else:\n",
    "        dataset[\"Location(km)\"][index]=\"Close\"\n",
    "    index+=1\n",
    "index=0\n",
    "\n",
    "\n",
    "for age in dataset[\"Age\"]:\n",
    "    if age<35:\n",
    "        dataset[\"Age\"][index]=\"Young\"\n",
    "    elif age<55:\n",
    "        dataset[\"Age\"][index]=\"Adulthood\"\n",
    "    else:\n",
    "        dataset[\"Age\"][index]=\"Old Adulthood\"\n",
    "    index+=1\n",
    "\n",
    "\n",
    "\n",
    "index=0 \n",
    "for children in dataset[\"Children\"]:\n",
    "    if children<2:\n",
    "        dataset[\"Children\"][index]=\"Few\"\n",
    "    elif children<=3:\n",
    "        dataset[\"Children\"][index]=\"Average\"\n",
    "    elif dataset>3:\n",
    "        dataset[\"Children\"][index]=\"Many\"\n",
    "    index+=1\n",
    "\n",
    "\n",
    "\n",
    "\n",
    "\n",
    "\n"
   ]
  },
  {
   "cell_type": "code",
   "execution_count": 669,
   "metadata": {},
   "outputs": [
    {
     "name": "stdout",
     "output_type": "stream",
     "text": [
      "             Age Gender OwnHome  Married Location(km)  Salary Children  \\\n",
      "0  Old Adulthood      *     **n   ****le          Far   47500      Few   \n",
      "1      Adulthood      *    ***t   ****le        Close   63600      Few   \n",
      "2          Young      *    ***t   ****le        Close   13500      Few   \n",
      "3      Adulthood      *     **n  *****ed        Close   85600      Few   \n",
      "4      Adulthood      *     **n   ****le        Close   68400      Few   \n",
      "\n",
      "  History  Catalogs  AmountSpent Customer Segment  \n",
      "0      **         6          755     ****** value  \n",
      "1      **         6         1318     *****m value  \n",
      "2      **        18          296        Lo*******  \n",
      "3      **        18         2436       *****value  \n",
      "4      **        12         1304     Medi********  \n"
     ]
    }
   ],
   "source": [
    "print(dataset.head())"
   ]
  },
  {
   "cell_type": "code",
   "execution_count": 670,
   "metadata": {},
   "outputs": [
    {
     "name": "stdout",
     "output_type": "stream",
     "text": [
      "Age                 Old Adulthood\n",
      "Gender                          *\n",
      "OwnHome                       **n\n",
      "Married                    ****le\n",
      "Location(km)                  Far\n",
      "Salary                      47500\n",
      "Children                      Few\n",
      "History                        **\n",
      "Catalogs                        6\n",
      "AmountSpent                   755\n",
      "Customer Segment     ****** value\n",
      "Name: 0, dtype: object\n"
     ]
    }
   ],
   "source": [
    "print(dataset.iloc[0,:])"
   ]
  },
  {
   "cell_type": "markdown",
   "metadata": {},
   "source": [
    "### Splitting the data into a set of predictors and responders "
   ]
  },
  {
   "cell_type": "code",
   "execution_count": 671,
   "metadata": {},
   "outputs": [],
   "source": [
    "dataset.columns\n",
    "datasetColumns=dataset.columns\n",
    "x_columns=['Age', 'Gender', 'OwnHome', 'Married', 'Location(km)', 'Salary','Children', 'History', 'Catalogs', 'AmountSpent']\n",
    "y_columns=['Customer Segment']\n",
    "x_dataset = dataset[x_columns]\n",
    "y_dataset = dataset[y_columns]"
   ]
  },
  {
   "cell_type": "code",
   "execution_count": 672,
   "metadata": {},
   "outputs": [],
   "source": [
    "x_datasetColumns=x_dataset.columns\n",
    "y_datasetColumns=y_dataset.columns"
   ]
  },
  {
   "cell_type": "code",
   "execution_count": 673,
   "metadata": {},
   "outputs": [],
   "source": [
    "\n",
    "encodeGender=pd.get_dummies(x_dataset['Gender'])\n",
    "encodeHome=pd.get_dummies(x_dataset['OwnHome'])\n",
    "encodeMarried=pd.get_dummies(x_dataset['Married'])\n",
    "encodeHistory=pd.get_dummies(x_dataset['History'])\n",
    "encodeAge=pd.get_dummies(x_dataset['Age'])\n",
    "encodeLocation=pd.get_dummies(x_dataset['Location(km)'])\n",
    "encodeChildren=pd.get_dummies(x_dataset['Children'])"
   ]
  },
  {
   "cell_type": "code",
   "execution_count": 674,
   "metadata": {},
   "outputs": [
    {
     "name": "stdout",
     "output_type": "stream",
     "text": [
      "     *  ***t  **n   **  *****ed  ****le  Adulthood  Old Adulthood  Young  \\\n",
      "0  1.0   0.0  1.0  1.0      0.0     1.0        0.0            1.0    0.0   \n",
      "1  1.0   1.0  0.0  1.0      0.0     1.0        1.0            0.0    0.0   \n",
      "2  1.0   1.0  0.0  1.0      0.0     1.0        0.0            0.0    1.0   \n",
      "3  1.0   0.0  1.0  1.0      1.0     0.0        1.0            0.0    0.0   \n",
      "4  1.0   0.0  1.0  1.0      0.0     1.0        1.0            0.0    0.0   \n",
      "\n",
      "   Average  Few  Close  Far   Salary  Catalogs  AmountSpent  \n",
      "0      0.0  1.0    0.0  1.0  47500.0       6.0        755.0  \n",
      "1      0.0  1.0    1.0  0.0  63600.0       6.0       1318.0  \n",
      "2      0.0  1.0    1.0  0.0  13500.0      18.0        296.0  \n",
      "3      0.0  1.0    1.0  0.0  85600.0      18.0       2436.0  \n",
      "4      0.0  1.0    1.0  0.0  68400.0      12.0       1304.0  \n"
     ]
    }
   ],
   "source": [
    "encodedData=pd.concat([encodeGender,encodeHome,encodeHistory,encodeMarried,encodeAge,encodeChildren,encodeLocation,x_dataset[[ 'Salary','Catalogs', 'AmountSpent']]],axis=1)\n",
    "encodedData=encodedData.astype(float)\n",
    "print(encodedData.head())"
   ]
  },
  {
   "cell_type": "code",
   "execution_count": 675,
   "metadata": {},
   "outputs": [],
   "source": [
    "x_datasetColumns=encodedData.columns"
   ]
  },
  {
   "cell_type": "code",
   "execution_count": 676,
   "metadata": {},
   "outputs": [],
   "source": [
    "x_dataset=encodedData.iloc[:,:].values\n",
    "y_dataset =y_dataset.iloc[:,:].values"
   ]
  },
  {
   "cell_type": "markdown",
   "metadata": {},
   "source": [
    "### Changing categorical values into numerical values"
   ]
  },
  {
   "cell_type": "code",
   "execution_count": 677,
   "metadata": {},
   "outputs": [
    {
     "name": "stderr",
     "output_type": "stream",
     "text": [
      "c:\\Users\\Banele_Home\\AppData\\Local\\Programs\\Python\\Python310\\lib\\site-packages\\sklearn\\preprocessing\\_label.py:115: DataConversionWarning: A column-vector y was passed when a 1d array was expected. Please change the shape of y to (n_samples, ), for example using ravel().\n",
      "  y = column_or_1d(y, warn=True)\n"
     ]
    }
   ],
   "source": [
    "from sklearn.preprocessing import LabelEncoder\n",
    "lb=LabelEncoder()\n",
    "y_dataset=lb.fit_transform(y_dataset)\n",
    "\n"
   ]
  },
  {
   "cell_type": "markdown",
   "metadata": {},
   "source": [
    "### Splitting the data into train dataset and test dataset"
   ]
  },
  {
   "cell_type": "code",
   "execution_count": 678,
   "metadata": {},
   "outputs": [],
   "source": [
    "from sklearn.model_selection import train_test_split\n",
    "x_train, x_test, y_train, y_test=train_test_split(x_dataset,y_dataset,test_size=0.2, random_state=1)"
   ]
  },
  {
   "cell_type": "code",
   "execution_count": 679,
   "metadata": {},
   "outputs": [
    {
     "name": "stdout",
     "output_type": "stream",
     "text": [
      "[1.00e+00 0.00e+00 1.00e+00 1.00e+00 0.00e+00 1.00e+00 0.00e+00 1.00e+00\n",
      " 0.00e+00 0.00e+00 1.00e+00 1.00e+00 0.00e+00 3.96e+04 1.20e+01 6.10e+02]\n"
     ]
    }
   ],
   "source": [
    "print(x_train[0,:])"
   ]
  },
  {
   "cell_type": "markdown",
   "metadata": {},
   "source": [
    "### Feature Scaling of the variables"
   ]
  },
  {
   "cell_type": "code",
   "execution_count": 680,
   "metadata": {},
   "outputs": [],
   "source": [
    "from sklearn.preprocessing import StandardScaler\n",
    "sc=StandardScaler()\n",
    "x_train[:,13:]=sc.fit_transform(x_train[:,13:])\n",
    "x_test[:,13:]=sc.transform(x_test[:,13:])"
   ]
  },
  {
   "cell_type": "code",
   "execution_count": 681,
   "metadata": {},
   "outputs": [
    {
     "name": "stdout",
     "output_type": "stream",
     "text": [
      "[ 1.          0.          1.          1.          0.          1.\n",
      "  0.          1.          0.          0.          1.          1.\n",
      "  0.         -0.52755785 -0.39562169 -0.62035795]\n"
     ]
    }
   ],
   "source": [
    "print(x_train[0,:])"
   ]
  },
  {
   "cell_type": "markdown",
   "metadata": {},
   "source": [
    "### Implementing the model (Random Forest classification models)"
   ]
  },
  {
   "cell_type": "code",
   "execution_count": 682,
   "metadata": {},
   "outputs": [
    {
     "data": {
      "text/html": [
       "<style>#sk-container-id-24 {color: black;background-color: white;}#sk-container-id-24 pre{padding: 0;}#sk-container-id-24 div.sk-toggleable {background-color: white;}#sk-container-id-24 label.sk-toggleable__label {cursor: pointer;display: block;width: 100%;margin-bottom: 0;padding: 0.3em;box-sizing: border-box;text-align: center;}#sk-container-id-24 label.sk-toggleable__label-arrow:before {content: \"▸\";float: left;margin-right: 0.25em;color: #696969;}#sk-container-id-24 label.sk-toggleable__label-arrow:hover:before {color: black;}#sk-container-id-24 div.sk-estimator:hover label.sk-toggleable__label-arrow:before {color: black;}#sk-container-id-24 div.sk-toggleable__content {max-height: 0;max-width: 0;overflow: hidden;text-align: left;background-color: #f0f8ff;}#sk-container-id-24 div.sk-toggleable__content pre {margin: 0.2em;color: black;border-radius: 0.25em;background-color: #f0f8ff;}#sk-container-id-24 input.sk-toggleable__control:checked~div.sk-toggleable__content {max-height: 200px;max-width: 100%;overflow: auto;}#sk-container-id-24 input.sk-toggleable__control:checked~label.sk-toggleable__label-arrow:before {content: \"▾\";}#sk-container-id-24 div.sk-estimator input.sk-toggleable__control:checked~label.sk-toggleable__label {background-color: #d4ebff;}#sk-container-id-24 div.sk-label input.sk-toggleable__control:checked~label.sk-toggleable__label {background-color: #d4ebff;}#sk-container-id-24 input.sk-hidden--visually {border: 0;clip: rect(1px 1px 1px 1px);clip: rect(1px, 1px, 1px, 1px);height: 1px;margin: -1px;overflow: hidden;padding: 0;position: absolute;width: 1px;}#sk-container-id-24 div.sk-estimator {font-family: monospace;background-color: #f0f8ff;border: 1px dotted black;border-radius: 0.25em;box-sizing: border-box;margin-bottom: 0.5em;}#sk-container-id-24 div.sk-estimator:hover {background-color: #d4ebff;}#sk-container-id-24 div.sk-parallel-item::after {content: \"\";width: 100%;border-bottom: 1px solid gray;flex-grow: 1;}#sk-container-id-24 div.sk-label:hover label.sk-toggleable__label {background-color: #d4ebff;}#sk-container-id-24 div.sk-serial::before {content: \"\";position: absolute;border-left: 1px solid gray;box-sizing: border-box;top: 0;bottom: 0;left: 50%;z-index: 0;}#sk-container-id-24 div.sk-serial {display: flex;flex-direction: column;align-items: center;background-color: white;padding-right: 0.2em;padding-left: 0.2em;position: relative;}#sk-container-id-24 div.sk-item {position: relative;z-index: 1;}#sk-container-id-24 div.sk-parallel {display: flex;align-items: stretch;justify-content: center;background-color: white;position: relative;}#sk-container-id-24 div.sk-item::before, #sk-container-id-24 div.sk-parallel-item::before {content: \"\";position: absolute;border-left: 1px solid gray;box-sizing: border-box;top: 0;bottom: 0;left: 50%;z-index: -1;}#sk-container-id-24 div.sk-parallel-item {display: flex;flex-direction: column;z-index: 1;position: relative;background-color: white;}#sk-container-id-24 div.sk-parallel-item:first-child::after {align-self: flex-end;width: 50%;}#sk-container-id-24 div.sk-parallel-item:last-child::after {align-self: flex-start;width: 50%;}#sk-container-id-24 div.sk-parallel-item:only-child::after {width: 0;}#sk-container-id-24 div.sk-dashed-wrapped {border: 1px dashed gray;margin: 0 0.4em 0.5em 0.4em;box-sizing: border-box;padding-bottom: 0.4em;background-color: white;}#sk-container-id-24 div.sk-label label {font-family: monospace;font-weight: bold;display: inline-block;line-height: 1.2em;}#sk-container-id-24 div.sk-label-container {text-align: center;}#sk-container-id-24 div.sk-container {/* jupyter's `normalize.less` sets `[hidden] { display: none; }` but bootstrap.min.css set `[hidden] { display: none !important; }` so we also need the `!important` here to be able to override the default hidden behavior on the sphinx rendered scikit-learn.org. See: https://github.com/scikit-learn/scikit-learn/issues/21755 */display: inline-block !important;position: relative;}#sk-container-id-24 div.sk-text-repr-fallback {display: none;}</style><div id=\"sk-container-id-24\" class=\"sk-top-container\"><div class=\"sk-text-repr-fallback\"><pre>RandomForestClassifier(criterion=&#x27;entropy&#x27;, n_estimators=10, random_state=0)</pre><b>In a Jupyter environment, please rerun this cell to show the HTML representation or trust the notebook. <br />On GitHub, the HTML representation is unable to render, please try loading this page with nbviewer.org.</b></div><div class=\"sk-container\" hidden><div class=\"sk-item\"><div class=\"sk-estimator sk-toggleable\"><input class=\"sk-toggleable__control sk-hidden--visually\" id=\"sk-estimator-id-24\" type=\"checkbox\" checked><label for=\"sk-estimator-id-24\" class=\"sk-toggleable__label sk-toggleable__label-arrow\">RandomForestClassifier</label><div class=\"sk-toggleable__content\"><pre>RandomForestClassifier(criterion=&#x27;entropy&#x27;, n_estimators=10, random_state=0)</pre></div></div></div></div></div>"
      ],
      "text/plain": [
       "RandomForestClassifier(criterion='entropy', n_estimators=10, random_state=0)"
      ]
     },
     "execution_count": 682,
     "metadata": {},
     "output_type": "execute_result"
    }
   ],
   "source": [
    "from sklearn.ensemble import RandomForestClassifier\n",
    "classifier = RandomForestClassifier(n_estimators = 10, criterion = 'entropy', random_state = 0)\n",
    "classifier.fit(x_train, y_train)"
   ]
  },
  {
   "cell_type": "code",
   "execution_count": 683,
   "metadata": {},
   "outputs": [
    {
     "name": "stdout",
     "output_type": "stream",
     "text": [
      "0.245\n"
     ]
    }
   ],
   "source": [
    "from sklearn.metrics import confusion_matrix, accuracy_score,f1_score,precision_score, recall_score\n",
    "y_pred = classifier.predict(x_test)\n",
    "accuracy=accuracy_score(y_test, y_pred)\n",
    "print(accuracy)\n",
    "precision=precision_score(y_test, y_pred,average='macro')\n",
    "recall=recall_score(y_test,y_pred,average='macro')\n",
    "accuracy_measures=pd.DataFrame([accuracy,precision,recall],columns=[\"Accuracy Measures\"],index=[\"accuracy score\",\"precision score\",\"recall score\"])\n",
    "accuracy_measures.to_csv('Accuracy metrics using preserving privacy techniques in Advanced analytics.csv')\n"
   ]
  },
  {
   "cell_type": "code",
   "execution_count": 684,
   "metadata": {},
   "outputs": [
    {
     "name": "stdout",
     "output_type": "stream",
     "text": [
      "0.22588636346400318\n"
     ]
    }
   ],
   "source": [
    "print(precision)"
   ]
  },
  {
   "cell_type": "code",
   "execution_count": 685,
   "metadata": {},
   "outputs": [
    {
     "name": "stdout",
     "output_type": "stream",
     "text": [
      "0.22206585684846555\n"
     ]
    }
   ],
   "source": [
    "print(recall)"
   ]
  },
  {
   "cell_type": "code",
   "execution_count": 686,
   "metadata": {},
   "outputs": [],
   "source": [
    "x_test[:,13:]=sc.inverse_transform(x_test[:,13:])\n",
    "y_test=lb.inverse_transform(y_test)\n",
    "y_pred=lb.inverse_transform(y_pred)\n"
   ]
  },
  {
   "cell_type": "code",
   "execution_count": 687,
   "metadata": {},
   "outputs": [],
   "source": [
    "y_test=pd.DataFrame(y_test,columns=[\"Actual Customer segments\"])\n",
    "y_pred=pd.DataFrame(y_pred,columns=[\"Predicted Customer segments\"])\n",
    "y_set=pd.concat([y_test,y_pred],axis=1)"
   ]
  },
  {
   "cell_type": "code",
   "execution_count": 688,
   "metadata": {},
   "outputs": [
    {
     "name": "stdout",
     "output_type": "stream",
     "text": [
      "  Actual Customer segments Predicted Customer segments\n",
      "0             ****** value                *****m value\n",
      "1               Hi********                  **** value\n",
      "2             *****m value                *****m value\n",
      "3             Me**********                *****m value\n",
      "4             Medi********                Medi********\n"
     ]
    }
   ],
   "source": [
    "print(y_set.head())"
   ]
  },
  {
   "cell_type": "code",
   "execution_count": 689,
   "metadata": {},
   "outputs": [
    {
     "name": "stdout",
     "output_type": "stream",
     "text": [
      "       *  ***t  **n   **  *****ed  ****le  Adulthood  Old Adulthood  Young  \\\n",
      "0    1.0   1.0  0.0  1.0      0.0     1.0        1.0            0.0    0.0   \n",
      "1    1.0   1.0  0.0  1.0      1.0     0.0        1.0            0.0    0.0   \n",
      "2    1.0   0.0  1.0  1.0      0.0     1.0        1.0            0.0    0.0   \n",
      "3    1.0   1.0  0.0  1.0      1.0     0.0        1.0            0.0    0.0   \n",
      "4    1.0   0.0  1.0  1.0      1.0     0.0        0.0            1.0    0.0   \n",
      "..   ...   ...  ...  ...      ...     ...        ...            ...    ...   \n",
      "195  1.0   0.0  1.0  1.0      1.0     0.0        0.0            1.0    0.0   \n",
      "196  1.0   0.0  1.0  1.0      1.0     0.0        1.0            0.0    0.0   \n",
      "197  1.0   1.0  0.0  1.0      1.0     0.0        0.0            1.0    0.0   \n",
      "198  1.0   0.0  1.0  1.0      1.0     0.0        1.0            0.0    0.0   \n",
      "199  1.0   1.0  0.0  1.0      0.0     1.0        0.0            0.0    1.0   \n",
      "\n",
      "     Average  Few  Close  Far    Salary  Catalogs  AmountSpent  \n",
      "0        0.0  1.0    1.0  0.0   52400.0      18.0        857.0  \n",
      "1        0.0  1.0    0.0  1.0   92400.0       6.0       2191.0  \n",
      "2        0.0  1.0    0.0  1.0   50100.0      18.0       1071.0  \n",
      "3        0.0  1.0    1.0  0.0   46700.0      24.0        983.0  \n",
      "4        0.0  1.0    1.0  0.0  107400.0      12.0       1485.0  \n",
      "..       ...  ...    ...  ...       ...       ...          ...  \n",
      "195      0.0  1.0    0.0  1.0   41300.0      24.0       1985.0  \n",
      "196      0.0  1.0    1.0  0.0   54200.0       6.0        757.0  \n",
      "197      0.0  1.0    1.0  0.0   38200.0       6.0        526.0  \n",
      "198      1.0  0.0    1.0  0.0   60500.0      12.0        340.0  \n",
      "199      0.0  1.0    1.0  0.0   26700.0      12.0        459.0  \n",
      "\n",
      "[200 rows x 16 columns]\n"
     ]
    }
   ],
   "source": [
    "tableData =pd.DataFrame(x_test,columns=x_datasetColumns) \n",
    "print(tableData)"
   ]
  },
  {
   "cell_type": "code",
   "execution_count": 690,
   "metadata": {},
   "outputs": [],
   "source": [
    "tableData[\"Gender\"]=tableData[\"*\"].idxmax(0)\n",
    "tableData[\"Age\"]=tableData[[\"Young\",\"Adulthood\",\"Old Adulthood\"]].idxmax(1)\n",
    "tableData[\"children\"]=tableData[[\"Few\",\"Average\"]].idxmax(1)\n",
    "tableData[\"OwnHome\"]=tableData[[\"**n\",\"***t\"]].idxmax(1)\n",
    "tableData[\"History\"]=tableData[\"**\"].idxmax(0)\n",
    "tableData[\"Married\"]=tableData[[\"****le\",\"*****ed\"]].idxmax(1)\n",
    "tableData[\"Location\"]=tableData[[\"Close\",\"Far\"]].idxmax(1)\n",
    "\n",
    "tableData=tableData.drop([\"Young\",\"Adulthood\",\"Old Adulthood\",\"Few\",\"Average\",\"**n\",\"***t\",\"****le\",\"*****ed\",\"*\",\"**\",\"Close\",\"Far\"],axis=1)\n",
    "tableData=pd.concat([tableData,y_set],axis=1)"
   ]
  },
  {
   "cell_type": "code",
   "execution_count": 691,
   "metadata": {},
   "outputs": [
    {
     "name": "stdout",
     "output_type": "stream",
     "text": [
      "     Salary  Catalogs  AmountSpent  Gender            Age children OwnHome  \\\n",
      "0   52400.0      18.0        857.0       0      Adulthood      Few    ***t   \n",
      "1   92400.0       6.0       2191.0       0      Adulthood      Few    ***t   \n",
      "2   50100.0      18.0       1071.0       0      Adulthood      Few     **n   \n",
      "3   46700.0      24.0        983.0       0      Adulthood      Few    ***t   \n",
      "4  107400.0      12.0       1485.0       0  Old Adulthood      Few     **n   \n",
      "\n",
      "   History  Married Location Actual Customer segments  \\\n",
      "0        0   ****le    Close             ****** value   \n",
      "1        0  *****ed      Far               Hi********   \n",
      "2        0   ****le      Far             *****m value   \n",
      "3        0  *****ed    Close             Me**********   \n",
      "4        0  *****ed    Close             Medi********   \n",
      "\n",
      "  Predicted Customer segments  \n",
      "0                *****m value  \n",
      "1                  **** value  \n",
      "2                *****m value  \n",
      "3                *****m value  \n",
      "4                Medi********  \n"
     ]
    }
   ],
   "source": [
    "print(tableData.head())"
   ]
  },
  {
   "cell_type": "code",
   "execution_count": 692,
   "metadata": {},
   "outputs": [
    {
     "ename": "PermissionError",
     "evalue": "[Errno 13] Permission denied: 'Advanced analytics with preserving privacy techniques.csv'",
     "output_type": "error",
     "traceback": [
      "\u001b[1;31m---------------------------------------------------------------------------\u001b[0m",
      "\u001b[1;31mPermissionError\u001b[0m                           Traceback (most recent call last)",
      "Cell \u001b[1;32mIn [692], line 1\u001b[0m\n\u001b[1;32m----> 1\u001b[0m \u001b[43mtableData\u001b[49m\u001b[38;5;241;43m.\u001b[39;49m\u001b[43mto_csv\u001b[49m\u001b[43m(\u001b[49m\u001b[38;5;124;43m'\u001b[39;49m\u001b[38;5;124;43mAdvanced analytics with preserving privacy techniques.csv\u001b[39;49m\u001b[38;5;124;43m'\u001b[39;49m\u001b[43m,\u001b[49m\u001b[43m \u001b[49m\u001b[43mindex\u001b[49m\u001b[38;5;241;43m=\u001b[39;49m\u001b[38;5;28;43;01mFalse\u001b[39;49;00m\u001b[43m)\u001b[49m\n",
      "File \u001b[1;32mc:\\Users\\Banele_Home\\AppData\\Local\\Programs\\Python\\Python310\\lib\\site-packages\\pandas\\core\\generic.py:3551\u001b[0m, in \u001b[0;36mNDFrame.to_csv\u001b[1;34m(self, path_or_buf, sep, na_rep, float_format, columns, header, index, index_label, mode, encoding, compression, quoting, quotechar, line_terminator, chunksize, date_format, doublequote, escapechar, decimal, errors, storage_options)\u001b[0m\n\u001b[0;32m   3540\u001b[0m df \u001b[39m=\u001b[39m \u001b[39mself\u001b[39m \u001b[39mif\u001b[39;00m \u001b[39misinstance\u001b[39m(\u001b[39mself\u001b[39m, ABCDataFrame) \u001b[39melse\u001b[39;00m \u001b[39mself\u001b[39m\u001b[39m.\u001b[39mto_frame()\n\u001b[0;32m   3542\u001b[0m formatter \u001b[39m=\u001b[39m DataFrameFormatter(\n\u001b[0;32m   3543\u001b[0m     frame\u001b[39m=\u001b[39mdf,\n\u001b[0;32m   3544\u001b[0m     header\u001b[39m=\u001b[39mheader,\n\u001b[1;32m   (...)\u001b[0m\n\u001b[0;32m   3548\u001b[0m     decimal\u001b[39m=\u001b[39mdecimal,\n\u001b[0;32m   3549\u001b[0m )\n\u001b[1;32m-> 3551\u001b[0m \u001b[39mreturn\u001b[39;00m DataFrameRenderer(formatter)\u001b[39m.\u001b[39;49mto_csv(\n\u001b[0;32m   3552\u001b[0m     path_or_buf,\n\u001b[0;32m   3553\u001b[0m     line_terminator\u001b[39m=\u001b[39;49mline_terminator,\n\u001b[0;32m   3554\u001b[0m     sep\u001b[39m=\u001b[39;49msep,\n\u001b[0;32m   3555\u001b[0m     encoding\u001b[39m=\u001b[39;49mencoding,\n\u001b[0;32m   3556\u001b[0m     errors\u001b[39m=\u001b[39;49merrors,\n\u001b[0;32m   3557\u001b[0m     compression\u001b[39m=\u001b[39;49mcompression,\n\u001b[0;32m   3558\u001b[0m     quoting\u001b[39m=\u001b[39;49mquoting,\n\u001b[0;32m   3559\u001b[0m     columns\u001b[39m=\u001b[39;49mcolumns,\n\u001b[0;32m   3560\u001b[0m     index_label\u001b[39m=\u001b[39;49mindex_label,\n\u001b[0;32m   3561\u001b[0m     mode\u001b[39m=\u001b[39;49mmode,\n\u001b[0;32m   3562\u001b[0m     chunksize\u001b[39m=\u001b[39;49mchunksize,\n\u001b[0;32m   3563\u001b[0m     quotechar\u001b[39m=\u001b[39;49mquotechar,\n\u001b[0;32m   3564\u001b[0m     date_format\u001b[39m=\u001b[39;49mdate_format,\n\u001b[0;32m   3565\u001b[0m     doublequote\u001b[39m=\u001b[39;49mdoublequote,\n\u001b[0;32m   3566\u001b[0m     escapechar\u001b[39m=\u001b[39;49mescapechar,\n\u001b[0;32m   3567\u001b[0m     storage_options\u001b[39m=\u001b[39;49mstorage_options,\n\u001b[0;32m   3568\u001b[0m )\n",
      "File \u001b[1;32mc:\\Users\\Banele_Home\\AppData\\Local\\Programs\\Python\\Python310\\lib\\site-packages\\pandas\\io\\formats\\format.py:1180\u001b[0m, in \u001b[0;36mDataFrameRenderer.to_csv\u001b[1;34m(self, path_or_buf, encoding, sep, columns, index_label, mode, compression, quoting, quotechar, line_terminator, chunksize, date_format, doublequote, escapechar, errors, storage_options)\u001b[0m\n\u001b[0;32m   1159\u001b[0m     created_buffer \u001b[39m=\u001b[39m \u001b[39mFalse\u001b[39;00m\n\u001b[0;32m   1161\u001b[0m csv_formatter \u001b[39m=\u001b[39m CSVFormatter(\n\u001b[0;32m   1162\u001b[0m     path_or_buf\u001b[39m=\u001b[39mpath_or_buf,\n\u001b[0;32m   1163\u001b[0m     line_terminator\u001b[39m=\u001b[39mline_terminator,\n\u001b[1;32m   (...)\u001b[0m\n\u001b[0;32m   1178\u001b[0m     formatter\u001b[39m=\u001b[39m\u001b[39mself\u001b[39m\u001b[39m.\u001b[39mfmt,\n\u001b[0;32m   1179\u001b[0m )\n\u001b[1;32m-> 1180\u001b[0m csv_formatter\u001b[39m.\u001b[39;49msave()\n\u001b[0;32m   1182\u001b[0m \u001b[39mif\u001b[39;00m created_buffer:\n\u001b[0;32m   1183\u001b[0m     \u001b[39massert\u001b[39;00m \u001b[39misinstance\u001b[39m(path_or_buf, StringIO)\n",
      "File \u001b[1;32mc:\\Users\\Banele_Home\\AppData\\Local\\Programs\\Python\\Python310\\lib\\site-packages\\pandas\\io\\formats\\csvs.py:241\u001b[0m, in \u001b[0;36mCSVFormatter.save\u001b[1;34m(self)\u001b[0m\n\u001b[0;32m    237\u001b[0m \u001b[39m\"\"\"\u001b[39;00m\n\u001b[0;32m    238\u001b[0m \u001b[39mCreate the writer & save.\u001b[39;00m\n\u001b[0;32m    239\u001b[0m \u001b[39m\"\"\"\u001b[39;00m\n\u001b[0;32m    240\u001b[0m \u001b[39m# apply compression and byte/text conversion\u001b[39;00m\n\u001b[1;32m--> 241\u001b[0m \u001b[39mwith\u001b[39;00m get_handle(\n\u001b[0;32m    242\u001b[0m     \u001b[39mself\u001b[39;49m\u001b[39m.\u001b[39;49mfilepath_or_buffer,\n\u001b[0;32m    243\u001b[0m     \u001b[39mself\u001b[39;49m\u001b[39m.\u001b[39;49mmode,\n\u001b[0;32m    244\u001b[0m     encoding\u001b[39m=\u001b[39;49m\u001b[39mself\u001b[39;49m\u001b[39m.\u001b[39;49mencoding,\n\u001b[0;32m    245\u001b[0m     errors\u001b[39m=\u001b[39;49m\u001b[39mself\u001b[39;49m\u001b[39m.\u001b[39;49merrors,\n\u001b[0;32m    246\u001b[0m     compression\u001b[39m=\u001b[39;49m\u001b[39mself\u001b[39;49m\u001b[39m.\u001b[39;49mcompression,\n\u001b[0;32m    247\u001b[0m     storage_options\u001b[39m=\u001b[39;49m\u001b[39mself\u001b[39;49m\u001b[39m.\u001b[39;49mstorage_options,\n\u001b[0;32m    248\u001b[0m ) \u001b[39mas\u001b[39;00m handles:\n\u001b[0;32m    249\u001b[0m \n\u001b[0;32m    250\u001b[0m     \u001b[39m# Note: self.encoding is irrelevant here\u001b[39;00m\n\u001b[0;32m    251\u001b[0m     \u001b[39mself\u001b[39m\u001b[39m.\u001b[39mwriter \u001b[39m=\u001b[39m csvlib\u001b[39m.\u001b[39mwriter(\n\u001b[0;32m    252\u001b[0m         handles\u001b[39m.\u001b[39mhandle,\n\u001b[0;32m    253\u001b[0m         lineterminator\u001b[39m=\u001b[39m\u001b[39mself\u001b[39m\u001b[39m.\u001b[39mline_terminator,\n\u001b[1;32m   (...)\u001b[0m\n\u001b[0;32m    258\u001b[0m         quotechar\u001b[39m=\u001b[39m\u001b[39mself\u001b[39m\u001b[39m.\u001b[39mquotechar,\n\u001b[0;32m    259\u001b[0m     )\n\u001b[0;32m    261\u001b[0m     \u001b[39mself\u001b[39m\u001b[39m.\u001b[39m_save()\n",
      "File \u001b[1;32mc:\\Users\\Banele_Home\\AppData\\Local\\Programs\\Python\\Python310\\lib\\site-packages\\pandas\\io\\common.py:786\u001b[0m, in \u001b[0;36mget_handle\u001b[1;34m(path_or_buf, mode, encoding, compression, memory_map, is_text, errors, storage_options)\u001b[0m\n\u001b[0;32m    781\u001b[0m \u001b[39melif\u001b[39;00m \u001b[39misinstance\u001b[39m(handle, \u001b[39mstr\u001b[39m):\n\u001b[0;32m    782\u001b[0m     \u001b[39m# Check whether the filename is to be opened in binary mode.\u001b[39;00m\n\u001b[0;32m    783\u001b[0m     \u001b[39m# Binary mode does not support 'encoding' and 'newline'.\u001b[39;00m\n\u001b[0;32m    784\u001b[0m     \u001b[39mif\u001b[39;00m ioargs\u001b[39m.\u001b[39mencoding \u001b[39mand\u001b[39;00m \u001b[39m\"\u001b[39m\u001b[39mb\u001b[39m\u001b[39m\"\u001b[39m \u001b[39mnot\u001b[39;00m \u001b[39min\u001b[39;00m ioargs\u001b[39m.\u001b[39mmode:\n\u001b[0;32m    785\u001b[0m         \u001b[39m# Encoding\u001b[39;00m\n\u001b[1;32m--> 786\u001b[0m         handle \u001b[39m=\u001b[39m \u001b[39mopen\u001b[39;49m(\n\u001b[0;32m    787\u001b[0m             handle,\n\u001b[0;32m    788\u001b[0m             ioargs\u001b[39m.\u001b[39;49mmode,\n\u001b[0;32m    789\u001b[0m             encoding\u001b[39m=\u001b[39;49mioargs\u001b[39m.\u001b[39;49mencoding,\n\u001b[0;32m    790\u001b[0m             errors\u001b[39m=\u001b[39;49merrors,\n\u001b[0;32m    791\u001b[0m             newline\u001b[39m=\u001b[39;49m\u001b[39m\"\u001b[39;49m\u001b[39m\"\u001b[39;49m,\n\u001b[0;32m    792\u001b[0m         )\n\u001b[0;32m    793\u001b[0m     \u001b[39melse\u001b[39;00m:\n\u001b[0;32m    794\u001b[0m         \u001b[39m# Binary mode\u001b[39;00m\n\u001b[0;32m    795\u001b[0m         handle \u001b[39m=\u001b[39m \u001b[39mopen\u001b[39m(handle, ioargs\u001b[39m.\u001b[39mmode)\n",
      "\u001b[1;31mPermissionError\u001b[0m: [Errno 13] Permission denied: 'Advanced analytics with preserving privacy techniques.csv'"
     ]
    }
   ],
   "source": [
    "tableData.to_csv('Advanced analytics with preserving privacy techniques.csv', index=False)\n"
   ]
  },
  {
   "cell_type": "code",
   "execution_count": null,
   "metadata": {},
   "outputs": [],
   "source": []
  }
 ],
 "metadata": {
  "kernelspec": {
   "display_name": "Python 3.10.7 64-bit",
   "language": "python",
   "name": "python3"
  },
  "language_info": {
   "codemirror_mode": {
    "name": "ipython",
    "version": 3
   },
   "file_extension": ".py",
   "mimetype": "text/x-python",
   "name": "python",
   "nbconvert_exporter": "python",
   "pygments_lexer": "ipython3",
   "version": "3.10.7"
  },
  "orig_nbformat": 4,
  "vscode": {
   "interpreter": {
    "hash": "32cb129f7520a2e4dbeffe6e337825ee6ffec9768156d63a4b0a365eb303abd2"
   }
  }
 },
 "nbformat": 4,
 "nbformat_minor": 2
}
